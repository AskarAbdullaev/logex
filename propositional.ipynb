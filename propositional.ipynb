{
 "cells": [
  {
   "cell_type": "markdown",
   "metadata": {},
   "source": [
    "# Propositional\n",
    "\n",
    "```python\n",
    "from logex import propositional as prop\n",
    "```"
   ]
  },
  {
   "cell_type": "markdown",
   "metadata": {},
   "source": [
    "## 1. Formula Instance\n",
    "\n",
    "The main building block of propositional logics is a formula.\n",
    "\n",
    "```python\n",
    "prop.Formula(formula: str)\n",
    "```\n",
    "\n",
    "IMPORTANT: almost all functions of prop also work with simple str instances but it is not an optimal behaviour."
   ]
  },
  {
   "cell_type": "code",
   "execution_count": 3,
   "metadata": {},
   "outputs": [
    {
     "data": {
      "text/plain": [
       "<Formula: a&b→(!c|d), vars: (a,b,c,d)>"
      ]
     },
     "execution_count": 3,
     "metadata": {},
     "output_type": "execute_result"
    }
   ],
   "source": [
    "from logex import propositional as prop\n",
    "\n",
    "formula = 'a & b -> (!c | d)'\n",
    "\n",
    "formula = prop.Formula(formula)\n",
    "\n",
    "formula"
   ]
  },
  {
   "cell_type": "markdown",
   "metadata": {},
   "source": [
    "Formula instance has certain attributes:\n",
    "```python\n",
    ".string\n",
    ".original\n",
    ".variables\n",
    ".literals\n",
    ".n_vars\n",
    "```\n",
    "\n",
    "IMPORTANT: there are many protected attributes, but they are not meant for access"
   ]
  },
  {
   "cell_type": "code",
   "execution_count": 4,
   "metadata": {},
   "outputs": [
    {
     "name": "stdout",
     "output_type": "stream",
     "text": [
      "a&b→(!c|d)\n",
      "['a', 'b', 'c', 'd']\n",
      "['a', 'b', '!c', 'd']\n",
      "4\n",
      "a & b -> (!c | d)\n"
     ]
    }
   ],
   "source": [
    "print(formula.string)\n",
    "print(formula.variables)\n",
    "print(formula.literals)\n",
    "print(formula.n_vars)\n",
    "print(formula.original)"
   ]
  },
  {
   "cell_type": "markdown",
   "metadata": {},
   "source": [
    "General information about the Formula and its current state can be shown:\n",
    "```python\n",
    ".info()\n",
    "```"
   ]
  },
  {
   "cell_type": "code",
   "execution_count": 5,
   "metadata": {},
   "outputs": [
    {
     "name": "stdout",
     "output_type": "stream",
     "text": [
      "Formula:            a&b→(!c|d)\n",
      "Original input:     a & b -> (!c | d)\n",
      "Variables:          a, b, c, d\n",
      "Literals:           a, b, !c, d\n",
      "N vars:             4\n",
      "Subformulas:        Not yet computed, use .get_subformulas()\n",
      "Type:               [ NOT CNF ] [ NOT DNF ] [ NOT AIG ] [ NOT NNF ]\n",
      "NNF:                Not yet computed, use .to_nnf()\n",
      "CNF:                Not yet computed, use .to_cnf()\n",
      "DNF:                Not yet computed, use .to_dnf()\n",
      "AIG:                Not yet computed, use .to_aig()\n",
      "SAT?:               Not yet computed, use .is_sat()\n",
      "UNSAT?:             Not yet computed, use .is_unsat()\n",
      "VALID?:             Not yet computed, use .is_valid()\n",
      "REFUTABLE?:         Not yet computed, use .is_refutable()\n",
      "Model example:      Not yet computed, use .get_model()\n",
      "Models so far:      Not yet computed, use .get_model()\n",
      "Falsifying example: Not yet computed, use .get_falsifying()\n",
      "Falsifying so far:  Not yet computed, use .get_falsifying()\n",
      "\n"
     ]
    }
   ],
   "source": [
    "print(formula.info())"
   ]
  },
  {
   "cell_type": "markdown",
   "metadata": {},
   "source": [
    "Many other characteristics and conversions are computed with methods stated in the .info()."
   ]
  },
  {
   "cell_type": "markdown",
   "metadata": {},
   "source": [
    "## 2. Structure"
   ]
  },
  {
   "cell_type": "markdown",
   "metadata": {},
   "source": [
    "For some cases it might be important to collect subformulas of the formula:\n",
    "```python\n",
    ".get_subformulas() -> set[tuple[str, tuple]]\n",
    "```\n",
    "\n",
    "- each sub_formula consists of a tuple: (sub_formula, (left part, outer operation, right part))\n",
    "- variables are not included in the set of subformulas but can be accessed through .variables"
   ]
  },
  {
   "cell_type": "code",
   "execution_count": 6,
   "metadata": {},
   "outputs": [
    {
     "data": {
      "text/plain": [
       "{('!c', ('', '!', 'c')),\n",
       " ('!c|d', ('!c', '|', 'd')),\n",
       " ('a&b', ('a', '&', 'b')),\n",
       " ('a&b→(!c|d)', ('a&b', '→', '!c|d'))}"
      ]
     },
     "execution_count": 6,
     "metadata": {},
     "output_type": "execute_result"
    }
   ],
   "source": [
    "formula.get_subformulas()"
   ]
  },
  {
   "cell_type": "markdown",
   "metadata": {},
   "source": [
    "Also, it is possible to get the outermost opertaion of a formula\n",
    "```python\n",
    "prop.get_outermost_connective(formula | str) -> tuple\n",
    "```"
   ]
  },
  {
   "cell_type": "code",
   "execution_count": 7,
   "metadata": {},
   "outputs": [
    {
     "data": {
      "text/plain": [
       "('→', ('a&b', '(!c|d)'))"
      ]
     },
     "execution_count": 7,
     "metadata": {},
     "output_type": "execute_result"
    }
   ],
   "source": [
    "prop.get_outermost_connective(formula)"
   ]
  },
  {
   "cell_type": "markdown",
   "metadata": {},
   "source": [
    "The tree of operations:\n"
   ]
  },
  {
   "cell_type": "code",
   "execution_count": 8,
   "metadata": {},
   "outputs": [
    {
     "name": "stdout",
     "output_type": "stream",
     "text": [
      "#################### TREE OF OPERATIONS ####################\n",
      "Formula: a&b→(!c|d)\n",
      "Tree:\n",
      "\n",
      "                        (→)                          \n",
      "              /‾‾‾‾‾‾‾‾‾‾‾‾‾‾‾‾‾‾‾‾‾\\                \n",
      "            (&)                     (|)              \n",
      "        /‾‾‾‾‾‾‾‾‾\\             /‾‾‾‾‾‾‾‾‾\\          \n",
      "      (a)         (b)         (!)         (d)        \n",
      "                              ‾‾\\                    \n",
      "                                (c)                  \n",
      "############################################################\n"
     ]
    }
   ],
   "source": [
    "prop.tree_of_operations(formula);"
   ]
  },
  {
   "cell_type": "markdown",
   "metadata": {},
   "source": [
    "## 3. SAT checking"
   ]
  },
  {
   "cell_type": "markdown",
   "metadata": {},
   "source": [
    "There are several method associated with SAT checking:\n",
    "```python\n",
    ".is_sat() -> bool\n",
    ".is_unsat() -> bool\n",
    ".is_valid() -> bool\n",
    ".is_refutable() -> bool\n",
    ".get_model() -> dict\n",
    ".get_falsifying() -> dict\n",
    ".get_truth_table() -> np.array, print\n",
    ".get_all_models() -> set\n",
    ".get_all_falsifying() -> set\n",
    "```\n",
    "\n",
    "Every time the method is called, its result and other logical consequences of this result are stored within Formula instance. When called again, the result will be taken from Formula itself to spare computation."
   ]
  },
  {
   "cell_type": "code",
   "execution_count": 9,
   "metadata": {},
   "outputs": [
    {
     "name": "stdout",
     "output_type": "stream",
     "text": [
      "True\n",
      "False\n",
      "False\n",
      "True\n"
     ]
    }
   ],
   "source": [
    "print(formula.is_sat())\n",
    "print(formula.is_unsat())\n",
    "print(formula.is_valid())\n",
    "print(formula.is_refutable())"
   ]
  },
  {
   "cell_type": "code",
   "execution_count": 10,
   "metadata": {},
   "outputs": [
    {
     "name": "stdout",
     "output_type": "stream",
     "text": [
      "####################### TRUTH TABLE ########################\n",
      "Formula: a&b→(!c|d)\n",
      "Truth Table:\n",
      "\t\ta b c d result\n",
      "\t\t0 0 0 0    1   \n",
      "\t\t0 0 0 1    1   \n",
      "\t\t0 0 1 0    1   \n",
      "\t\t0 0 1 1    1   \n",
      "\t\t0 1 0 0    1   \n",
      "\t\t0 1 0 1    1   \n",
      "\t\t0 1 1 0    1   \n",
      "\t\t0 1 1 1    1   \n",
      "\t\t1 0 0 0    1   \n",
      "\t\t1 0 0 1    1   \n",
      "\t\t1 0 1 0    1   \n",
      "\t\t1 0 1 1    1   \n",
      "\t\t1 1 0 0    1   \n",
      "\t\t1 1 0 1    1   \n",
      "\t\t1 1 1 0    0   \n",
      "\t\t1 1 1 1    1   \n",
      "Valid? False\n",
      "Satisfiable? True\n",
      "Refutable? True\n",
      "Unsatisfiable? False\n",
      "############################################################\n"
     ]
    }
   ],
   "source": [
    "formula.get_truth_table();"
   ]
  },
  {
   "cell_type": "code",
   "execution_count": 11,
   "metadata": {},
   "outputs": [
    {
     "name": "stdout",
     "output_type": "stream",
     "text": [
      "Model:  {'a': 1, 'b': 1, 'c': 1, 'd': 1}\n",
      "Falsifying assignment:  {'a': 1, 'b': 1, 'c': 1, 'd': 0}\n"
     ]
    }
   ],
   "source": [
    "print('Model: ', formula.get_model())\n",
    "print('Falsifying assignment: ', formula.get_falsifying())"
   ]
  },
  {
   "cell_type": "markdown",
   "metadata": {},
   "source": [
    "Now we can check, how much the methods called before have changed the content of Formula instance:"
   ]
  },
  {
   "cell_type": "code",
   "execution_count": 12,
   "metadata": {},
   "outputs": [
    {
     "name": "stdout",
     "output_type": "stream",
     "text": [
      "Formula:            a&b→(!c|d)\n",
      "Original input:     a & b -> (!c | d)\n",
      "Variables:          a, b, c, d\n",
      "Literals:           a, b, !c, d\n",
      "N vars:             4\n",
      "Subformulas:        4\n",
      "Type:               [ NOT CNF ] [ NOT DNF ] [ NOT AIG ] [ NOT NNF ]\n",
      "NNF:                !a|!b|(!c|d)\n",
      "CNF:                !a|!b|!c|d\n",
      "DNF:                Not yet computed, use .to_dnf()\n",
      "AIG:                Not yet computed, use .to_aig()\n",
      "SAT?:               True\n",
      "UNSAT?:             False\n",
      "VALID?:             False\n",
      "REFUTABLE?:         True\n",
      "Model example:      {'a': 1, 'b': 1, 'c': 1, 'd': 1}\n",
      "Models so far:      15\n",
      "Falsifying example: {'a': 1, 'b': 1, 'c': 1, 'd': 0}\n",
      "Falsifying so far:  1\n",
      "\n"
     ]
    }
   ],
   "source": [
    "print(formula.info())"
   ]
  },
  {
   "cell_type": "markdown",
   "metadata": {},
   "source": [
    "## 4. Conversions"
   ]
  },
  {
   "cell_type": "markdown",
   "metadata": {},
   "source": [
    "<pre> ==> NNF (Negation Normal Form) </pre>\n",
    "<pre> ==> CNF (Conjunction Normal Form) </pre>\n",
    "(additionally has attributes .clauses and .clauses_qdimacs)\n",
    "<pre> ==> DNF (Disjunction Normal Form) </pre>\n",
    "(additionally has attribute .cubes)\n",
    "<pre> ==> AIG (Add Inverter Graph) </pre>"
   ]
  },
  {
   "cell_type": "code",
   "execution_count": 13,
   "metadata": {},
   "outputs": [
    {
     "name": "stdout",
     "output_type": "stream",
     "text": [
      "!a|!b|(!c|d)\n"
     ]
    }
   ],
   "source": [
    "nnf = formula.to_nnf()\n",
    "print(nnf)"
   ]
  },
  {
   "cell_type": "code",
   "execution_count": 14,
   "metadata": {},
   "outputs": [
    {
     "name": "stdout",
     "output_type": "stream",
     "text": [
      "!a|!b|!c|d\n",
      "{'!a|!b|!c|d'}\n",
      "[[-1, -2, -3, 4]]\n"
     ]
    }
   ],
   "source": [
    "cnf = formula.to_cnf()\n",
    "print(cnf)\n",
    "print(cnf.clauses)\n",
    "print(cnf.clauses_qdmacs)"
   ]
  },
  {
   "cell_type": "code",
   "execution_count": 15,
   "metadata": {},
   "outputs": [
    {
     "name": "stdout",
     "output_type": "stream",
     "text": [
      "!b|d|!c|!a\n",
      "['!b', 'd', '!c', '!a']\n"
     ]
    }
   ],
   "source": [
    "dnf = formula.to_dnf()\n",
    "print(dnf)\n",
    "print(dnf.cubes)"
   ]
  },
  {
   "cell_type": "code",
   "execution_count": 16,
   "metadata": {},
   "outputs": [
    {
     "name": "stdout",
     "output_type": "stream",
     "text": [
      "!(a&b&(c&!d))\n"
     ]
    }
   ],
   "source": [
    "aig = formula.to_aig()\n",
    "print(aig)"
   ]
  },
  {
   "cell_type": "markdown",
   "metadata": {},
   "source": [
    "## 5. Algorithms"
   ]
  },
  {
   "cell_type": "markdown",
   "metadata": {},
   "source": [
    "### BCP (Binary Constraint Propagation)\n",
    "\n",
    "Let's take example from graph coloring problem:"
   ]
  },
  {
   "cell_type": "code",
   "execution_count": 17,
   "metadata": {},
   "outputs": [
    {
     "name": "stdout",
     "output_type": "stream",
     "text": [
      "###################### GRAPH COLORING ######################\n",
      "Vertices: ['a', 'b', 'c']\n",
      "Edges: [('a', 'b'), ('b', 'c'), ('c', 'a')]\n",
      "Number of colors: 2\n",
      "\n",
      "Each vertex must have at least one color:\n",
      "(a1|a2)&(b1|b2)&(c1|c2)\n",
      "\n",
      "Each vertex must have at most one color:\n",
      "(!a1|!a2)&(!b1|!b2)&(!c1|!c2)\n",
      "\n",
      "Adjacent vertices cannot have the same color:\n",
      "(!a1|!b1)&(!a2|!b2)&(!b1|!c1)&(!b2|!c2)&(!c1|!a1)&(!c2|!a2)\n",
      "\n",
      "Result: (a1|a2)&(b1|b2)&(c1|c2)&(!a1|!a2)&(!b1|!b2)&(!c1|!c2)&(!a1|!b1)&(!a2|!b2)&(!b1|!c1)&(!b2|!c2)&(!c1|!a1)&(!c2|!a2)\n",
      "############################################################\n",
      "\n",
      "CNF:  (a1|a2)&(b1|b2)&(c1|c2)&(!a1|!a2)&(!b1|!b2)&(!c1|!c2)&(!a1|!b1)&(!a2|!b2)&(!b1|!c1)&(!b2|!c2)&(!c1|!a1)&(!c2|!a2)\n"
     ]
    }
   ],
   "source": [
    "cnf = prop.graph_coloring(vertices=['a', 'b', 'c'], \n",
    "                          edges=[('a', 'b'), ('b', 'c'), ('c', 'a')],\n",
    "                          num_colors=2)\n",
    "cnf = prop.Formula(cnf, as_cnf=True)\n",
    "print('\\nCNF: ', cnf)"
   ]
  },
  {
   "cell_type": "code",
   "execution_count": 18,
   "metadata": {},
   "outputs": [
    {
     "name": "stdout",
     "output_type": "stream",
     "text": [
      "########################### BCP ############################\n",
      "Original CNF: (a1|a2)&(b1|b2)&(c1|c2)&(!a1|!a2)&(!b1|!b2)&(!c1|!c2)&(!a1|!b1)&(!a2|!b2)&(!b1|!c1)&(!b2|!c2)&(!c1|!a1)&(!c2|!a2)\n",
      "BCP on literal a1\n",
      "(!b1|!b2) ==> (!b1|!b2)\n",
      "(!a1|!b1) ==> (!b1)\n",
      "(!b2|!c2) ==> (!b2|!c2)\n",
      "(!c1|!c2) ==> (!c1|!c2)\n",
      "(!a2|!b2) ==> (!a2|!b2)\n",
      "(b1|b2) ==> (b1|b2)\n",
      "(!a1|!a2) ==> (!a2)\n",
      "(c1|c2) ==> (c1|c2)\n",
      "(!b1|!c1) ==> (!b1|!c1)\n",
      "(!c1|!a1) ==> (!c1)\n",
      "(a1|a2) ==> ⊤\n",
      "(!c2|!a2) ==> (!a2|!c2)\n",
      "\n",
      "Result: (!b1|!b2)&(!c1|!c2)&(!b2|!c2)&(b1|b2)&(!b1)&(!a2|!c2)&(c1|c2)&(!b1|!c1)&(!a2|!b2)&(!c1)&(!a2)\n",
      "############################################################\n",
      "########################### BCP ############################\n",
      "Original CNF: (!b1|!b2)&(!c1|!c2)&(!b2|!c2)&(b1|b2)&!b1&(!a2|!c2)&(c1|c2)&(!b1|!c1)&(!a2|!b2)&!c1&!a2\n",
      "BCP on literal c1\n",
      "(!b1|!b2) ==> (!b1|!b2)\n",
      "(!c1|!c2) ==> (!c2)\n",
      "(!b2|!c2) ==> (!b2|!c2)\n",
      "(b1|b2) ==> (b1|b2)\n",
      "(!b1) ==> (!b1)\n",
      "(!a2|!c2) ==> (!a2|!c2)\n",
      "(c1|c2) ==> ⊤\n",
      "(!b1|!c1) ==> (!b1)\n",
      "(!a2|!b2) ==> (!a2|!b2)\n",
      "(!c1) ==> ⊥\n",
      "\n",
      "Result: ⊥\n",
      "############################################################\n"
     ]
    }
   ],
   "source": [
    "bcp_1 = prop.bcp(cnf, 'a1')\n",
    "bcp_2 = prop.bcp(bcp_1, 'c1')"
   ]
  },
  {
   "cell_type": "markdown",
   "metadata": {},
   "source": [
    "### DPLL"
   ]
  },
  {
   "cell_type": "code",
   "execution_count": 19,
   "metadata": {},
   "outputs": [
    {
     "name": "stdout",
     "output_type": "stream",
     "text": [
      "########################### DPLL ###########################\n",
      "\n",
      "Formula: (a1|a2)&(b1|b2)&(c1|c2)&(!a1|!a2)&(!b1|!b2)&(!c1|!c2)&(!a1|!b1)&(!a2|!b2)&(!b1|!c1)&(!b2|!c2)&(!c1|!a1)&(!c2|!a2)\n",
      "BCP on \"a1\":\t(!b1|!b2)&(!c1|!c2)&(!b2|!c2)&(b1|b2)&!b1&(!a2|!c2)&(c1|c2)&(!b1|!c1)&(!a2|!b2)&!c1&!a2\n",
      "BCP on \"b1\":\t\t⊥\n",
      "BCP on \"!b1\":\t\t(!b2|!c2)&(!c1|!c2)&(!a2|!c2)&(c1|c2)&(!a2|!b2)&b2&!c1&!a2\n",
      "BCP on \"c2\":\t\t\t!b2&(!a2|!b2)&b2&!c1&!a2\n",
      "BCP on \"b2\":\t\t\t\t⊥\n",
      "BCP on \"!b2\":\t\t\t\t⊥\n",
      "BCP on \"!c2\":\t\t\tc1&(!a2|!b2)&b2&!c1&!a2\n",
      "BCP on \"a2\":\t\t\t\t⊥\n",
      "BCP on \"!a2\":\t\t\t\tb2&!c1&c1\n",
      "BCP on \"c1\":\t\t\t\t\t⊥\n",
      "BCP on \"!c1\":\t\t\t\t\t⊥\n",
      "BCP on \"!a1\":\ta2&(!b1|!b2)&(!c1|!c2)&(!b2|!c2)&(b1|b2)&(!a2|!c2)&(c1|c2)&(!b1|!c1)&(!a2|!b2)\n",
      "BCP on \"b2\":\t\ta2&(!c1|!c2)&(!a2|!c2)&!b1&(c1|c2)&(!b1|!c1)&!c2&!a2\n",
      "BCP on \"c2\":\t\t\t⊥\n",
      "BCP on \"!c2\":\t\t\ta2&c1&!b1&(!b1|!c1)&!a2\n",
      "BCP on \"a2\":\t\t\t\t⊥\n",
      "BCP on \"!a2\":\t\t\t\t⊥\n",
      "BCP on \"!b2\":\t\ta2&(!c1|!c2)&(!a2|!c2)&(c1|c2)&(!b1|!c1)&b1\n",
      "BCP on \"c1\":\t\t\ta2&(!a2|!c2)&!b1&b1&!c2\n",
      "BCP on \"a2\":\t\t\t\t!c2&!b1&b1\n",
      "BCP on \"b1\":\t\t\t\t\t⊥\n",
      "BCP on \"!b1\":\t\t\t\t\t⊥\n",
      "BCP on \"!a2\":\t\t\t\t⊥\n",
      "BCP on \"!c1\":\t\t\ta2&c2&(!a2|!c2)&b1\n",
      "BCP on \"a2\":\t\t\t\tb1&c2&!c2\n",
      "BCP on \"c2\":\t\t\t\t\t⊥\n",
      "BCP on \"!c2\":\t\t\t\t\t⊥\n",
      "BCP on \"!a2\":\t\t\t\t⊥\n",
      "Result: UNSAT\n",
      "                                                                                                (a1)                                                                                              \n",
      "                                                              /˙˙˙˙˙˙˙˙˙˙˙˙˙˙˙˙˙˙˙˙˙˙˙˙˙˙˙˙˙˙˙˙˙˙˙‾‾‾‾‾‾‾‾‾‾‾‾‾‾‾‾‾‾‾‾‾‾‾‾‾‾‾‾‾‾‾‾‾‾‾‾‾‾‾‾‾‾‾‾‾‾‾‾‾‾‾‾\\                                           \n",
      "                                                           (b2)                                                                                       (b1)                                        \n",
      "                               /˙˙˙˙˙˙˙˙˙˙˙˙˙˙˙˙˙˙˙˙˙˙˙˙˙˙˙‾‾‾‾‾‾‾‾‾‾‾‾‾‾‾‾‾‾‾‾‾‾‾‾\\                                             /˙˙˙˙˙˙˙˙˙˙˙˙˙˙˙˙˙˙˙˙˙˙˙˙‾‾‾\\                                    \n",
      "                            (c1)                                                   (c2)                                       (c2)                           (⊥)                                  \n",
      "               /˙˙˙˙˙˙˙˙˙˙˙˙‾‾‾‾‾‾‾‾‾‾‾\\                                   /˙˙˙˙˙˙˙˙˙˙˙‾‾‾\\                           /˙˙˙˙˙˙˙‾‾‾‾‾‾‾‾‾‾‾\\                                                        \n",
      "            (a2)                       (a2)                             (a2)              (⊥)                      (a2)                  (b2)                                                     \n",
      "        /˙˙˙‾‾‾‾\\                    /˙˙˙˙˙‾‾‾‾\\                    /˙˙˙‾‾‾‾‾\\                                /˙˙˙˙‾‾‾‾‾\\              /˙˙˙˙˙‾‾‾\\                                                 \n",
      "      (⊥)       (c2)               (⊥)         (b1)               (⊥)        (⊥)                           (c1)         (⊥)          (⊥)        (⊥)                                               \n",
      "                 /˙˙˙‾‾\\                        /˙˙˙‾‾\\                                                /˙˙˙‾‾‾\\                                                                                   \n",
      "               (⊥)     (⊥)                    (⊥)     (⊥)                                            (⊥)      (⊥)                                                                                 \n",
      "############################################################\n"
     ]
    },
    {
     "data": {
      "text/plain": [
       "'UNSAT'"
      ]
     },
     "execution_count": 19,
     "metadata": {},
     "output_type": "execute_result"
    }
   ],
   "source": [
    "prop.dpll(cnf)"
   ]
  },
  {
   "cell_type": "markdown",
   "metadata": {},
   "source": [
    "### Resolution"
   ]
  },
  {
   "cell_type": "markdown",
   "metadata": {},
   "source": [
    "There are several function for resolution:\n",
    "\n",
    "```python\n",
    "possible_pivots(formula: Union[str, Formula], \n",
    "                formula_1: Union[str, Formula] = None) -> list[str]\n",
    "```\n",
    "\n",
    "If one CNF is provided: returns all possible pivots to apply to this CNF\n",
    "If 2 formulas provided: assums that each is a clause and returns possible pivots.\n",
    "\n",
    "\n",
    "```python\n",
    "binary_resolution(clause_1: Union[str, Formula], \n",
    "                  clause_2: Union[str, Formula], \n",
    "                  pivot: str = None,\n",
    "                  allow_tautology: bool = True,\n",
    "                  return_all: bool = False) -> str | bool\n",
    "```\n",
    "Resolves 2 clauses. If impossible - returns False.\n",
    "\n",
    "- pivot: if pivot is given - tries to resolve on pivot, else - tries every possible pivot.\n",
    "- allow_tautology: allows resolvent(s) to be tautology, else converts to constant(s)\n",
    "- return_all: allows to return all possible results if pivot wa not provided\n",
    "\n",
    "\n",
    "```python\n",
    "resolution(formula: Union[str, Formula], \n",
    "           formula_2: Union[str, Formula] = None, \n",
    "           pivot: str = None,\n",
    "           allow_tautology: bool = True,\n",
    "           return_all: bool = False) -> Any\n",
    "```\n",
    "\n",
    "If a single formula is provided - perform resolution within CNF. Else - treats both formulas as clauses.\n",
    "\n",
    "- pivot: if pivot is given - tries to resolve on pivot, else - tries every possible pivot.\n",
    "- allow_tautology: allows resolvent(s) to be tautology, else converts to constant(s)\n",
    "- return_all: allows to return all possible results instead of one at maximum.\n",
    "\n",
    "```python\n",
    "resolution_refutation(formula: Union[str, Formula]) -> print\n",
    "```\n",
    "\n",
    "Tries to construct resolution refutation of UNSAT CNF.\n",
    "\n"
   ]
  },
  {
   "cell_type": "code",
   "execution_count": 20,
   "metadata": {},
   "outputs": [
    {
     "data": {
      "text/plain": [
       "['a', 'b']"
      ]
     },
     "execution_count": 20,
     "metadata": {},
     "output_type": "execute_result"
    }
   ],
   "source": [
    "prop.possible_pivots(\n",
    "    '(!a | b | !c) & (d | !b | a)'\n",
    ")"
   ]
  },
  {
   "cell_type": "code",
   "execution_count": 21,
   "metadata": {},
   "outputs": [
    {
     "name": "stdout",
     "output_type": "stream",
     "text": [
      "######################## RESOLUTION ########################\n",
      "[ single output ] [ tautology allowed ]\n",
      "Clause 1: (!a | b | !c)\n",
      "Clause 2: (d | !b | a)\n",
      "Possible pivots are: ['a', 'b']\n",
      "RES(Clause 1, Clause 2; on \"a\") = !b|!c|d|b\n",
      "############################################################\n",
      "######################## RESOLUTION ########################\n",
      "[ multiple output ] [ tautology allowed ]\n",
      "Clause 1: (!a | b | !c)\n",
      "Clause 2: (d | !b | a)\n",
      "Possible pivots are: ['a', 'b']\n",
      "RES(Clause 1, Clause 2; on \"a\") = !b|!c|d|b\n",
      "RES(Clause 1, Clause 2; on \"b\") = !c|d|a|!a\n",
      "############################################################\n",
      "######################## RESOLUTION ########################\n",
      "[ multiple output ] [ tautology not allowed ]\n",
      "Clause 1: (!a | b | !c)\n",
      "Clause 2: (d | !b | a)\n",
      "Possible pivots are: ['a', 'b']\n",
      "RES(Clause 1, Clause 2; on \"a\") = ⊤\n",
      "RES(Clause 1, Clause 2; on \"b\") = ⊤\n",
      "############################################################\n"
     ]
    }
   ],
   "source": [
    "prop.binary_resolution(\n",
    "    '(!a | b | !c)', \n",
    "    '(d | !b | a)'\n",
    ")\n",
    "prop.binary_resolution(\n",
    "    '(!a | b | !c)', \n",
    "    '(d | !b | a)',\n",
    "    return_all=True\n",
    ")\n",
    "prop.binary_resolution(\n",
    "    '(!a | b | !c)', \n",
    "    '(d | !b | a)',\n",
    "    return_all=True,\n",
    "    allow_tautology=False\n",
    ");"
   ]
  },
  {
   "cell_type": "code",
   "execution_count": 22,
   "metadata": {},
   "outputs": [
    {
     "name": "stdout",
     "output_type": "stream",
     "text": [
      "######################## RESOLUTION ########################\n",
      "[ single output ] [ tautology allowed ]\n",
      "CNF: (!a|b|!c)&(d|!b|a)&(e|!d)&(e|f)\n",
      "Pivot is not provided\n",
      "Possible pivots are: ['a', 'b', 'd']\n",
      "Pivot \"a\" generates the following resolvents:\n",
      "\tRES((d|!b|a), (!a|b|!c), on \"a\") = !b|d|!c|b\n",
      "############################################################\n",
      "\n",
      "######################## RESOLUTION ########################\n",
      "[ multiple output ] [ tautology allowed ]\n",
      "CNF: (!a|b|!c)&(d|!b|a)&(e|!d)&(e|f)\n",
      "Pivot is not provided\n",
      "Possible pivots are: ['a', 'b', 'd']\n",
      "Pivot \"a\" generates the following resolvents:\n",
      "\tRES((d|!b|a), (!a|b|!c), on \"a\") = !b|d|!c|b\n",
      "Pivot \"b\" generates the following resolvents:\n",
      "\tRES((d|!b|a), (!a|b|!c), on \"b\") = !c|d|a|!a\n",
      "Pivot \"d\" generates the following resolvents:\n",
      "\tRES((e|!d), (d|!b|a), on \"d\") = !b|a|e\n",
      "############################################################\n",
      "\n",
      "######################## RESOLUTION ########################\n",
      "[ multiple output ] [ tautology not allowed ]\n",
      "CNF: (!a|b|!c)&(d|!b|a)&(e|!d)&(e|f)\n",
      "Pivot is not provided\n",
      "Possible pivots are: ['a', 'b', 'd']\n",
      "Pivot \"a\" generates the following resolvents:\n",
      "\tRES((d|!b|a), (!a|b|!c), on \"a\") = ⊤\n",
      "Pivot \"b\" generates the following resolvents:\n",
      "\tRES((d|!b|a), (!a|b|!c), on \"b\") = ⊤\n",
      "Pivot \"d\" generates the following resolvents:\n",
      "\tRES((e|!d), (d|!b|a), on \"d\") = !b|a|e\n",
      "############################################################\n",
      "\n"
     ]
    }
   ],
   "source": [
    "prop.resolution(\n",
    "    '(!a | b | !c) & (d | !b | a) & (e | !d) & (e | f)'\n",
    "    )\n",
    "prop.resolution(\n",
    "    '(!a | b | !c) & (d | !b | a) & (e | !d) & (e | f)',\n",
    "    return_all=True\n",
    "    )\n",
    "prop.resolution(\n",
    "    '(!a | b | !c) & (d | !b | a) & (e | !d) & (e | f)',\n",
    "    return_all=True,\n",
    "    allow_tautology=False\n",
    "    );"
   ]
  },
  {
   "cell_type": "code",
   "execution_count": 23,
   "metadata": {},
   "outputs": [
    {
     "name": "stdout",
     "output_type": "stream",
     "text": [
      "54 trial resolutions were performed\n",
      "Found at depth 4\n",
      "\n",
      "\n",
      "                           [!a1|!b1]       [a1|a2]        [!b2|!c2]        [c1|c2]        [!c1|!a1]      [a1|a2]                           [b1|b2]       [!b1|!c1]      [c1|c2]        [!c2|!a2]     \n",
      "                                   \\_______/                      \\________/                      \\______/                                       \\_______/                    \\________/             \n",
      "            [b1|b2]               a2|!b1                              !b2|c1                    a2|!c1                                               b2|!c1                   !a2|c1                \n",
      "                  \\_______________/                                        \\____________________/                                                         \\___________________/                     \n",
      "                      a2|b2                                                      !b2|a2                                  [!a2|!b2]                             b2|!a2                               \n",
      "                          \\______________________________________________________/                                               \\_____________________________/                                    \n",
      "                                                     a2                                                                              !a2                                                            \n",
      "                                                      \\______________________________________________________________________________/                                                              \n",
      "                                                                                                                   (⊥)                                                                              \n"
     ]
    }
   ],
   "source": [
    "prop.resolution_refutation(cnf)"
   ]
  },
  {
   "cell_type": "markdown",
   "metadata": {},
   "source": [
    "### Blocked Clauses"
   ]
  },
  {
   "cell_type": "markdown",
   "metadata": {},
   "source": [
    "Several functions are availbale for work with blocked clauses:\n",
    "\n",
    "\n",
    "```python\n",
    "is_blocked_on_literal(clause: Union[str, Formula], \n",
    "                      in_formula: Union[str, Formula], \n",
    "                      literal: str) -> bool\n",
    "```\n",
    "\n",
    "Checks if clause is blocked in CNF on the given literal.\n",
    "\n",
    "```python\n",
    "is_blocked(clause: Union[str, Formula], \n",
    "           in_formula: Union[str, Formula]) -> list[str]\n",
    "```\n",
    "\n",
    "Checks if clause is blocked in CNF on any literal.\n",
    "\n",
    "```python\n",
    "blocked_clauses(formula: Union[str, Formula]) -> dict:\n",
    "```\n",
    "\n",
    "Searches for blocked clauses in CNF and returned a dict of blocked clauses with kays = clause, value = blocking literals.\n",
    "\n",
    "```python\n",
    "blocked_clauses_elimination(formula: Union[str, Formula]) -> print\n",
    "```\n",
    "\n",
    "Perform BCE until fixed point."
   ]
  },
  {
   "cell_type": "code",
   "execution_count": 24,
   "metadata": {},
   "outputs": [
    {
     "name": "stdout",
     "output_type": "stream",
     "text": [
      "###################### BLOCKED CLAUSE ######################\n",
      "Checking if clause: !a|b|!c\n",
      "is blocked in formula: (!a|b|!c)&(d|!b|a)&(e|!d)&(e|f)\n",
      "On literal \"!a\"\n",
      "\n",
      "Possible RES with clause (d|!b|a) = (!b|d|!c|b) (tautology)\n",
      "\n",
      "Result: BLOCKED\n",
      "############################################################\n",
      "\n",
      "###################### BLOCKED CLAUSE ######################\n",
      "Checking if clause: d|!b|a\n",
      "is blocked in formula: (!a|b|!c)&(d|!b|a)&(e|!d)&(e|f)\n",
      "\n",
      "On literal a: True\n",
      "On literal !b: True\n",
      "On literal d: False\n",
      "\n",
      "Result: BLOCKED on literals ['a', '!b']\n",
      "############################################################\n",
      "\n"
     ]
    }
   ],
   "source": [
    "cnf = prop.Formula('(!a|b|!c)&(d|!b|a)&(e|!d)&(e|f)', as_cnf=True)\n",
    "\n",
    "prop.is_blocked_on_literal(clause = '(!a|b|!c)', \n",
    "                           in_formula = cnf,\n",
    "                           literal = '!a');\n",
    "prop.is_blocked(clause = '(d|!b|a)', \n",
    "                in_formula = cnf);\n"
   ]
  },
  {
   "cell_type": "code",
   "execution_count": 25,
   "metadata": {},
   "outputs": [
    {
     "name": "stdout",
     "output_type": "stream",
     "text": [
      "###################### BLOCKED CLAUSE ######################\n",
      "Searching for blocked clauses in: (!a|b|!c)&(d|!b|a)&(e|!d)&(e|f)\n",
      "\n",
      "Clause e|!d is blocked on literals ['e']\n",
      "Clause d|!b|a is blocked on literals ['a', '!b']\n",
      "Clause e|f is blocked on literals ['e', 'f']\n",
      "Clause !a|b|!c is blocked on literals ['!a', 'b', '!c']\n",
      "\n",
      "Result 4/4 clauses are blocked\n",
      "############################################################\n",
      "\n"
     ]
    }
   ],
   "source": [
    "prop.blocked_clauses(cnf);"
   ]
  },
  {
   "cell_type": "code",
   "execution_count": 26,
   "metadata": {},
   "outputs": [
    {
     "name": "stdout",
     "output_type": "stream",
     "text": [
      "########################### BCE ############################\n",
      "Step 1)\n",
      "\tCurrent residual: (!a|b|!c)&(d|!b|a)&(e|!d)&(e|f)\n",
      "\tBlocked clauses: {'e|!d': ['e'], 'd|!b|a': ['a', '!b'], 'e|f': ['e', 'f'], '!a|b|!c': ['!a', 'b', '!c']}\n",
      "\tEliminating: e|!d\n",
      "\n",
      "Step 2)\n",
      "\tCurrent residual: (d|!b|a)&(e|f)&(!a|b|!c)\n",
      "\tBlocked clauses: {'d|!b|a': ['a', '!b', 'd'], 'e|f': ['e', 'f'], '!a|b|!c': ['!a', 'b', '!c']}\n",
      "\tEliminating: d|!b|a\n",
      "\n",
      "Step 3)\n",
      "\tCurrent residual: (e|f)&(!a|b|!c)\n",
      "\tBlocked clauses: {'e|f': ['e', 'f'], '!a|b|!c': ['!a', 'b', '!c']}\n",
      "\tEliminating: e|f\n",
      "\n",
      "Step 4)\n",
      "\tCurrent residual: !a|b|!c\n",
      "\tBlocked clauses: {'!a|b|!c': ['!a', 'b', '!c']}\n",
      "\tEliminating: !a|b|!c\n",
      "\n",
      "Step 5)\n",
      "\tCurrent residual: ⊤\n",
      "\tBlocked clauses: {'⊤': False}\n",
      "Result: ⊤\n",
      "############################################################\n",
      "\n"
     ]
    }
   ],
   "source": [
    "prop.blocked_clauses_elimination(cnf);"
   ]
  }
 ],
 "metadata": {
  "kernelspec": {
   "display_name": "logic",
   "language": "python",
   "name": "python3"
  },
  "language_info": {
   "codemirror_mode": {
    "name": "ipython",
    "version": 3
   },
   "file_extension": ".py",
   "mimetype": "text/x-python",
   "name": "python",
   "nbconvert_exporter": "python",
   "pygments_lexer": "ipython3",
   "version": "3.12.9"
  }
 },
 "nbformat": 4,
 "nbformat_minor": 2
}
