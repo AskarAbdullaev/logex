{
 "cells": [
  {
   "cell_type": "markdown",
   "metadata": {},
   "source": [
    "# Equational\n",
    "\n",
    "```python\n",
    "from logex import equational as eq\n",
    "```\n",
    "\n",
    "Small sub-module for equational reasoning"
   ]
  },
  {
   "cell_type": "markdown",
   "metadata": {},
   "source": [
    "## 1. Terms\n",
    "\n",
    "The main building block of equational reasoning is a Term.\n",
    "\n",
    "```python\n",
    "eq.Term(term: str)\n",
    "```\n",
    "\n",
    "IMPORTANT: some functions may also work with str\n",
    "\n",
    "By conventions, in term:\n",
    "\n",
    "- fuctions are written with small letters\n",
    "- variables are written with capital letters\n",
    "- constants can be written like function with empty input or without any input (c or c())"
   ]
  },
  {
   "cell_type": "code",
   "execution_count": 1,
   "metadata": {},
   "outputs": [
    {
     "name": "stdout",
     "output_type": "stream",
     "text": [
      "Term: g(f(f(Y)),X)\n",
      "Originals: g(f (f (Y )), X )\n",
      "Ground term? False\n",
      "Functions: {'f', 'g'}\n",
      "with arities: {'g': 2, 'f': 1}\n",
      "Variables: {'Y', 'X'}\n",
      "Constants: set()\n",
      "Sub-terms: {'g(f(f(Y)),X)', 'f(Y)', 'X', 'f(f(Y))', 'Y'}\n",
      "\n"
     ]
    }
   ],
   "source": [
    "from logex import equational as eq\n",
    "\n",
    "tau = eq.Term('g(f (f (Y )), X )')\n",
    "print(tau.info())"
   ]
  },
  {
   "cell_type": "markdown",
   "metadata": {},
   "source": [
    "Sometimes is it important that 2 terms do not have common variables:\n",
    "```python\n",
    "disjoin_variables(to_keep: str | Term, \n",
    "                  to_replace: str | Term) -> tuple[Term, Term]:\n",
    "```"
   ]
  },
  {
   "cell_type": "code",
   "execution_count": 2,
   "metadata": {},
   "outputs": [
    {
     "name": "stdout",
     "output_type": "stream",
     "text": [
      "g(f(f(Y)),X)\n",
      "g(G,f(V))\n"
     ]
    }
   ],
   "source": [
    "tau = eq.Term('g(f (f (Y )), X )')\n",
    "tau_ = eq.Term('g(X, f(Y ))')\n",
    "\n",
    "tau, tau_renamed = eq.disjoin_variables(to_keep=tau, to_replace=tau_)\n",
    "print(tau)\n",
    "print(tau_renamed)"
   ]
  },
  {
   "cell_type": "markdown",
   "metadata": {},
   "source": [
    "Two terms can be matched by finding a substitution, such that it converts one term to another term (or to show that there is no such substitution):\n",
    "\n",
    "```python\n",
    "eq.match_terms(original_term: str | Term, \n",
    "               target_term: str | Term) -> dict\n",
    "```"
   ]
  },
  {
   "cell_type": "code",
   "execution_count": 3,
   "metadata": {},
   "outputs": [
    {
     "name": "stdout",
     "output_type": "stream",
     "text": [
      "###################### TERM MATCHING #######################\n",
      "Original term: f(X,g(Y,Z))\n",
      "Target term: f(h(Z'),g(X',Y'))\n",
      "Mismatch found:\n",
      "\tf(X,g(Y,Z))\n",
      "\tf(h(Z'),g(X',Y'))\n",
      "\t  ^\n",
      "\n",
      "Substitution added: X -> h(Z')\n",
      "\n",
      "Mismatch found:\n",
      "\tf(h(Z'),g(Y,Z))\n",
      "\tf(h(Z'),g(X',Y'))\n",
      "\t          ^\n",
      "\n",
      "Substitution added: Y -> X'\n",
      "\n",
      "Mismatch found:\n",
      "\tf(h(Z'),g(X',Z))\n",
      "\tf(h(Z'),g(X',Y'))\n",
      "\t             ^\n",
      "\n",
      "Substitution added: Z -> Y'\n",
      "\n",
      "Result: {'Y': \"X'\", 'X': \"h(Z')\", 'Z': \"Y'\"}\n",
      "############################################################\n",
      "\n"
     ]
    }
   ],
   "source": [
    "tau1 = eq.Term('f (X, g(Y, Z)) ')\n",
    "tau2 = eq.Term(\"f (h(Z'), g (X', Y'))\")\n",
    "\n",
    "eq.match_terms(tau1, tau2);"
   ]
  },
  {
   "cell_type": "markdown",
   "metadata": {},
   "source": [
    "## 2. Generalization / Unification"
   ]
  },
  {
   "cell_type": "markdown",
   "metadata": {},
   "source": [
    "There are 2 values of interest:\n",
    "\n",
    "- LGG (least general generalization)\n",
    "- MGU (most general unifier)"
   ]
  },
  {
   "cell_type": "markdown",
   "metadata": {},
   "source": [
    "```python\n",
    "least_general_generalization(term_1: str | Term, \n",
    "                             term_2: str | Term) -> Term, dict, dict\n",
    "```\n",
    "\n",
    "Returns LGG and 2 substitutions that match LGG to the original terms"
   ]
  },
  {
   "cell_type": "code",
   "execution_count": 4,
   "metadata": {},
   "outputs": [
    {
     "name": "stdout",
     "output_type": "stream",
     "text": [
      "########################### LGG ############################\n",
      "Term 1: f(X,g(Z))\n",
      "Term 2: f(h(X),Y)\n",
      "Mismatch found:\n",
      "\tf(X,g(Z))\n",
      "\tf(h(X),Y)\n",
      "\t  ^\n",
      "\n",
      "Substitution added to sigma_1: V -> X\n",
      "Substitution added to sigma_2: V -> h(X)\n",
      "Back substitution is performed\n",
      "\n",
      "Mismatch found:\n",
      "\tf(V,g(Z))\n",
      "\tf(V,Y)\n",
      "\t    ^\n",
      "\n",
      "Substitution added to sigma_1: G -> g(Z)\n",
      "Substitution added to sigma_2: G -> Y\n",
      "Back substitution is performed\n",
      "\n",
      "Result: f(V,G)\n",
      "sigma_1: {'V': 'X', 'G': 'g(Z)'}\n",
      "sigma_2: {'V': 'h(X)', 'G': 'Y'}\n",
      "############################################################\n",
      "\n"
     ]
    }
   ],
   "source": [
    "tau1 = eq.Term('f (X, g(Z))')\n",
    "tau2 = eq.Term(\"f (h(X), Y )\")\n",
    "\n",
    "eq.least_general_generalization(tau1, tau2);"
   ]
  },
  {
   "cell_type": "markdown",
   "metadata": {},
   "source": [
    "```python\n",
    "most_general_unifier(term_1: str | Term, \n",
    "                     term_2: str | Term) -> dict | bool\n",
    "```\n",
    "\n",
    "Returns MGU if terms are unifiabe, else False"
   ]
  },
  {
   "cell_type": "code",
   "execution_count": 5,
   "metadata": {},
   "outputs": [
    {
     "name": "stdout",
     "output_type": "stream",
     "text": [
      "########################### MGU ############################\n",
      "Term 1: g(X,f(f(Y)))\n",
      "Term 2: g(g(Z,Y),f(Z))\n",
      "Mismatch found:\n",
      "\tg(X,f(f(Y)))\n",
      "\tg(g(Z,Y),f(Z))\n",
      "\t  ^\n",
      "\n",
      "New substitution is added: X -> g(Z,Y)\n",
      "Mismatch found:\n",
      "\tg(g(Z,Y),f(f(Y)))\n",
      "\tg(g(Z,Y),f(Z))\n",
      "\t           ^\n",
      "\n",
      "New substitution is added: Z -> f(Y)\n",
      "Result: {'X': 'g(f(Y),Y)', 'Z': 'f(Y)'}\n",
      "Final unification: g(g(f(Y),Y),f(f(Y)))\n",
      "############################################################\n",
      "\n"
     ]
    }
   ],
   "source": [
    "tau1 = eq.Term('g(X,f(f(Y)))')\n",
    "tau2 = eq.Term(\"g(g(Z,Y),f(Z))\")\n",
    "\n",
    "eq.most_general_unifier(tau1, tau2);"
   ]
  },
  {
   "cell_type": "markdown",
   "metadata": {},
   "source": [
    "## 3.Reduction Systems"
   ]
  },
  {
   "cell_type": "markdown",
   "metadata": {},
   "source": [
    "Term Order is a Callable object that takes 2 terms and returns TRUE if the first term is LESS that the second term, FALSE - if the second term is less than the first, and None if they are incomparable.\n",
    "\n",
    "Rules for comparison might be defined in different ways. Here is a built-in implementation for defult term ordering:"
   ]
  },
  {
   "cell_type": "code",
   "execution_count": 6,
   "metadata": {},
   "outputs": [
    {
     "name": "stdout",
     "output_type": "stream",
     "text": [
      "None\n",
      "True\n",
      "True\n",
      "False\n",
      "False\n"
     ]
    }
   ],
   "source": [
    "order = eq.DefaultTermOrder()\n",
    "\n",
    "print(order('X', 'f(X)'))\n",
    "print(order('f(X)', 'g(X)'))\n",
    "print(order('f(X)', 'g(X, Y)'))\n",
    "print(order('f(X, Y)', 'g(X)'))\n",
    "print(order('f(X, g(X))', 'f(X)'))"
   ]
  },
  {
   "cell_type": "markdown",
   "metadata": {},
   "source": [
    "### Reduction\n",
    "```python\n",
    "reduction_of_term(reduction_system: Collection, \n",
    "                  term: str) -> Term, list, str\n",
    "```\n",
    "\n",
    "Tries to perform reduction with respect to the reduction system of the given term\n",
    "\n",
    "- reduction system: list of tuples, each tuple consists of left part and right part of the reduction rule\n"
   ]
  },
  {
   "cell_type": "code",
   "execution_count": 7,
   "metadata": {},
   "outputs": [
    {
     "name": "stdout",
     "output_type": "stream",
     "text": [
      "######################## REDUCTION #########################\n",
      "Term: square(plus(X,one))\n",
      "Reduction system: \n",
      "square(X) -> times(X,X)\n",
      "times(X,plus(Y,Z)) -> plus(times(X,Y),times(X,Z))\n",
      "times(plus(X,Y),Z) -> plus(times(X,Z),times(Y,Z))\n",
      "\n",
      "Step 1, by using rule: [ square(X) -> times(X,X) ]:\n",
      "\tsquare(plus(X,one)) ==> times(plus(V,one),plus(V,one))\n",
      "\n",
      "Step 2, by using rule: [ times(X,plus(Y,Z)) -> plus(times(X,Y),times(X,Z)) ]:\n",
      "\ttimes(plus(V,one),plus(V,one)) ==> plus(times(plus(V,one),V),times(plus(V,one),one))\n",
      "\n",
      "Step 3, by using rule: [ times(plus(X,Y),Z) -> plus(times(X,Z),times(Y,Z)) ]:\n",
      "\tplus(times(plus(V,one),V),times(plus(V,one),one)) ==> plus(plus(times(V,V),times(one,V)),times(plus(V,one),one))\n",
      "\n",
      "Step 4, by using rule: [ times(plus(X,Y),Z) -> plus(times(X,Z),times(Y,Z)) ]:\n",
      "\tplus(plus(times(V,V),times(one,V)),times(plus(V,one),one)) ==> plus(plus(times(V,V),times(one,V)),plus(times(V,one),times(one,one)))\n",
      "\n",
      "Result: plus(plus(times(V,V),times(one,V)),plus(times(V,one),times(one,one)))\n",
      "############################################################\n"
     ]
    }
   ],
   "source": [
    "R = {\n",
    "    ('square(X)', 'times(X, X)'),\n",
    "    ('times(plus(X, Y ), Z )', 'plus(times(X, Z), times(Y, Z))'),\n",
    "    ('times(X, plus(Y, Z))', 'plus(times(X, Y ), times(X, Z))')\n",
    "    }\n",
    "term = 'square(plus(X, one()))'\n",
    "\n",
    "eq.reduction_of_term(R, term);"
   ]
  },
  {
   "cell_type": "markdown",
   "metadata": {},
   "source": [
    "### Critical Pairs\n",
    "```python\n",
    "critical_pairs(reduction_system: list) -> set[tuple]\n",
    "```\n",
    "\n",
    "Returns set of critical pairs for a given reduction system"
   ]
  },
  {
   "cell_type": "code",
   "execution_count": 8,
   "metadata": {},
   "outputs": [
    {
     "name": "stdout",
     "output_type": "stream",
     "text": [
      "################# CRITICAL PAIRS ALGORITHM #################\n",
      "Reduction system: \n",
      "f(g(X)) -> f(X)\n",
      "g(f(Y)) -> f(Y)\n",
      "h(g(Z)) -> f(Z)\n",
      "\n",
      "Initialising Critical pairs to empty set: set()\n",
      "1) Working with pair of rules:\n",
      "\t\t\tRule 1: [ f(g(X)) -> f(X) ]\n",
      "\t\t\tRule 1: [ f(g(X)) -> f(X) ]\n",
      "\n",
      "\tλ1 [ f(g(X)) ] and λ2 [ f(g(X)) ] have 1 common variables: {'X'}\n",
      "\tsubstitution σ = {V <- X}\n",
      "\tNew rule 2: [ f(g(V)) -> f(V) ]\n",
      "\n",
      "\tIterating over non-variable subterms (s) of λ1 [ f(g(X)) ]:\n",
      "\n",
      "\t\t1.1) Working with a subterm s [ f(g(X)) ]:\n",
      "\t\t\tMost general unifier of s and λ2: μ = {'X': 'V'}\n",
      "\t\t\t as μ = renaming => nothing happens\n",
      "\n",
      "\n",
      "\t\t1.2) Working with a subterm s [ g(X) ]:\n",
      "\t\t\tMost general unifier of s and λ2: μ = ⊥\n",
      "\t\t\t as μ = ⊥ => nothing happens\n",
      "\n",
      "2) Working with pair of rules:\n",
      "\t\t\tRule 1: [ f(g(X)) -> f(X) ]\n",
      "\t\t\tRule 2: [ g(f(Y)) -> f(Y) ]\n",
      "\n",
      "\tλ1 [ f(g(X)) ] and λ2 [ g(f(Y)) ] have 0 common variables: set()\n",
      "\tsubstitution σ = {}\n",
      "\n",
      "\tIterating over non-variable subterms (s) of λ1 [ f(g(X)) ]:\n",
      "\n",
      "\t\t2.1) Working with a subterm s [ f(g(X)) ]:\n",
      "\t\t\tMost general unifier of s and λ2: μ = ⊥\n",
      "\t\t\t as μ = ⊥ => nothing happens\n",
      "\n",
      "\n",
      "\t\t2.2) Working with a subterm s [ g(X) ]:\n",
      "\t\t\tMost general unifier of s and λ2: μ = {'X': 'f(Y)'}\n",
      "\t\t\t μ(λ1) = f(g(f(Y)))\n",
      "\t\t\t μ(λ2) = g(f(Y))\n",
      "\t\t\t μ(s) = g(f(Y))\n",
      "\t\t\t μ(ρ2) = f(Y)\n",
      "\t\t\t μ(ρ1) = f(f(Y))\n",
      "\t\t\t==> τ = f(f(Y))\n",
      "\t\t\tAdding pair (τ, μ(ρ1)): (f(f(Y)), f(f(Y))) to Critical Pairs\n",
      "\n",
      "\t\t\trule is trivial ==> nothing happens\n",
      "3) Working with pair of rules:\n",
      "\t\t\tRule 1: [ f(g(X)) -> f(X) ]\n",
      "\t\t\tRule 3: [ h(g(Z)) -> f(Z) ]\n",
      "\n",
      "\tλ1 [ f(g(X)) ] and λ2 [ h(g(Z)) ] have 0 common variables: set()\n",
      "\tsubstitution σ = {}\n",
      "\n",
      "\tIterating over non-variable subterms (s) of λ1 [ f(g(X)) ]:\n",
      "\n",
      "\t\t3.1) Working with a subterm s [ f(g(X)) ]:\n",
      "\t\t\tMost general unifier of s and λ2: μ = ⊥\n",
      "\t\t\t as μ = ⊥ => nothing happens\n",
      "\n",
      "\n",
      "\t\t3.2) Working with a subterm s [ g(X) ]:\n",
      "\t\t\tMost general unifier of s and λ2: μ = ⊥\n",
      "\t\t\t as μ = ⊥ => nothing happens\n",
      "\n",
      "4) Working with pair of rules:\n",
      "\t\t\tRule 2: [ g(f(Y)) -> f(Y) ]\n",
      "\t\t\tRule 1: [ f(g(X)) -> f(X) ]\n",
      "\n",
      "\tλ1 [ g(f(Y)) ] and λ2 [ f(g(X)) ] have 0 common variables: set()\n",
      "\tsubstitution σ = {}\n",
      "\n",
      "\tIterating over non-variable subterms (s) of λ1 [ g(f(Y)) ]:\n",
      "\n",
      "\t\t4.1) Working with a subterm s [ g(f(Y)) ]:\n",
      "\t\t\tMost general unifier of s and λ2: μ = ⊥\n",
      "\t\t\t as μ = ⊥ => nothing happens\n",
      "\n",
      "\n",
      "\t\t4.2) Working with a subterm s [ f(Y) ]:\n",
      "\t\t\tMost general unifier of s and λ2: μ = {'Y': 'g(X)'}\n",
      "\t\t\t μ(λ1) = g(f(g(X)))\n",
      "\t\t\t μ(λ2) = f(g(X))\n",
      "\t\t\t μ(s) = f(g(X))\n",
      "\t\t\t μ(ρ2) = f(X)\n",
      "\t\t\t μ(ρ1) = f(g(X))\n",
      "\t\t\t==> τ = g(f(X))\n",
      "\t\t\tAdding pair (τ, μ(ρ1)): (g(f(X)), f(g(X))) to Critical Pairs\n",
      "\n",
      "5) Working with pair of rules:\n",
      "\t\t\tRule 2: [ g(f(Y)) -> f(Y) ]\n",
      "\t\t\tRule 2: [ g(f(Y)) -> f(Y) ]\n",
      "\n",
      "\tλ1 [ g(f(Y)) ] and λ2 [ g(f(Y)) ] have 1 common variables: {'Y'}\n",
      "\tsubstitution σ = {V <- Y}\n",
      "\tNew rule 2: [ g(f(V)) -> f(V) ]\n",
      "\n",
      "\tIterating over non-variable subterms (s) of λ1 [ g(f(Y)) ]:\n",
      "\n",
      "\t\t5.1) Working with a subterm s [ g(f(Y)) ]:\n",
      "\t\t\tMost general unifier of s and λ2: μ = {'Y': 'V'}\n",
      "\t\t\t as μ = renaming => nothing happens\n",
      "\n",
      "\n",
      "\t\t5.2) Working with a subterm s [ f(Y) ]:\n",
      "\t\t\tMost general unifier of s and λ2: μ = ⊥\n",
      "\t\t\t as μ = ⊥ => nothing happens\n",
      "\n",
      "6) Working with pair of rules:\n",
      "\t\t\tRule 2: [ g(f(Y)) -> f(Y) ]\n",
      "\t\t\tRule 3: [ h(g(Z)) -> f(Z) ]\n",
      "\n",
      "\tλ1 [ g(f(Y)) ] and λ2 [ h(g(Z)) ] have 0 common variables: set()\n",
      "\tsubstitution σ = {}\n",
      "\n",
      "\tIterating over non-variable subterms (s) of λ1 [ g(f(Y)) ]:\n",
      "\n",
      "\t\t6.1) Working with a subterm s [ g(f(Y)) ]:\n",
      "\t\t\tMost general unifier of s and λ2: μ = ⊥\n",
      "\t\t\t as μ = ⊥ => nothing happens\n",
      "\n",
      "\n",
      "\t\t6.2) Working with a subterm s [ f(Y) ]:\n",
      "\t\t\tMost general unifier of s and λ2: μ = ⊥\n",
      "\t\t\t as μ = ⊥ => nothing happens\n",
      "\n",
      "7) Working with pair of rules:\n",
      "\t\t\tRule 3: [ h(g(Z)) -> f(Z) ]\n",
      "\t\t\tRule 1: [ f(g(X)) -> f(X) ]\n",
      "\n",
      "\tλ1 [ h(g(Z)) ] and λ2 [ f(g(X)) ] have 0 common variables: set()\n",
      "\tsubstitution σ = {}\n",
      "\n",
      "\tIterating over non-variable subterms (s) of λ1 [ h(g(Z)) ]:\n",
      "\n",
      "\t\t7.1) Working with a subterm s [ g(Z) ]:\n",
      "\t\t\tMost general unifier of s and λ2: μ = ⊥\n",
      "\t\t\t as μ = ⊥ => nothing happens\n",
      "\n",
      "\n",
      "\t\t7.2) Working with a subterm s [ h(g(Z)) ]:\n",
      "\t\t\tMost general unifier of s and λ2: μ = ⊥\n",
      "\t\t\t as μ = ⊥ => nothing happens\n",
      "\n",
      "8) Working with pair of rules:\n",
      "\t\t\tRule 3: [ h(g(Z)) -> f(Z) ]\n",
      "\t\t\tRule 2: [ g(f(Y)) -> f(Y) ]\n",
      "\n",
      "\tλ1 [ h(g(Z)) ] and λ2 [ g(f(Y)) ] have 0 common variables: set()\n",
      "\tsubstitution σ = {}\n",
      "\n",
      "\tIterating over non-variable subterms (s) of λ1 [ h(g(Z)) ]:\n",
      "\n",
      "\t\t8.1) Working with a subterm s [ g(Z) ]:\n",
      "\t\t\tMost general unifier of s and λ2: μ = {'Z': 'f(Y)'}\n",
      "\t\t\t μ(λ1) = h(g(f(Y)))\n",
      "\t\t\t μ(λ2) = g(f(Y))\n",
      "\t\t\t μ(s) = g(f(Y))\n",
      "\t\t\t μ(ρ2) = f(Y)\n",
      "\t\t\t μ(ρ1) = f(f(Y))\n",
      "\t\t\t==> τ = h(f(Y))\n",
      "\t\t\tAdding pair (τ, μ(ρ1)): (h(f(Y)), f(f(Y))) to Critical Pairs\n",
      "\n",
      "\n",
      "\t\t8.2) Working with a subterm s [ h(g(Z)) ]:\n",
      "\t\t\tMost general unifier of s and λ2: μ = ⊥\n",
      "\t\t\t as μ = ⊥ => nothing happens\n",
      "\n",
      "9) Working with pair of rules:\n",
      "\t\t\tRule 3: [ h(g(Z)) -> f(Z) ]\n",
      "\t\t\tRule 3: [ h(g(Z)) -> f(Z) ]\n",
      "\n",
      "\tλ1 [ h(g(Z)) ] and λ2 [ h(g(Z)) ] have 1 common variables: {'Z'}\n",
      "\tsubstitution σ = {V <- Z}\n",
      "\tNew rule 2: [ h(g(V)) -> f(V) ]\n",
      "\n",
      "\tIterating over non-variable subterms (s) of λ1 [ h(g(Z)) ]:\n",
      "\n",
      "\t\t9.1) Working with a subterm s [ g(Z) ]:\n",
      "\t\t\tMost general unifier of s and λ2: μ = ⊥\n",
      "\t\t\t as μ = ⊥ => nothing happens\n",
      "\n",
      "\n",
      "\t\t9.2) Working with a subterm s [ h(g(Z)) ]:\n",
      "\t\t\tMost general unifier of s and λ2: μ = {'Z': 'V'}\n",
      "\t\t\t as μ = renaming => nothing happens\n",
      "\n",
      "\n",
      "Critical pairs: g(f(A)) = f(g(A)) | h(f(A)) = f(f(A))\n",
      "############################################################\n"
     ]
    }
   ],
   "source": [
    "reduction_set = [(\"f(g(X))\", \"f(X)\"), \n",
    "                 (\"g(f(Y))\", \"f(Y)\"), \n",
    "                 (\"h(g(Z))\", \"f(Z)\")]\n",
    "\n",
    "eq.critical_pairs(reduction_set);"
   ]
  },
  {
   "cell_type": "markdown",
   "metadata": {},
   "source": [
    "### Knuth-Bendix Completion\n",
    "\n",
    "```python\n",
    "knuth_bendix(reduction_system: list, \n",
    "             term_order: Callable = DefaultTermOrder()) -> list[tuple]\n",
    "```\n",
    "\n",
    "Returns a complete reduction system (with deterministic reduction pipeline)"
   ]
  },
  {
   "cell_type": "code",
   "execution_count": 9,
   "metadata": {},
   "outputs": [
    {
     "name": "stdout",
     "output_type": "stream",
     "text": [
      "####################### KNUTH-BENDIX #######################\n",
      "Reduction system (STEP 0): \n",
      "f(g(X)) -> f(X)\n",
      "g(f(Y)) -> f(Y)\n",
      "h(g(Z)) -> f(Z)\n",
      "\n",
      "\n",
      "Critical pairs were recomputed\n",
      "Critical pairs left to check (2):\n",
      "g(f(A)) -> f(g(A))\n",
      "h(f(A)) -> f(f(A))\n",
      "\n",
      "Working with critical pair: g(f(A)) -> f(g(A))\n",
      "Obtained: ρ = f(A) and ρ' = f(A)\n",
      "Equal results obtained - no new rules deduced.\n",
      "\n",
      "\n",
      "Critical pairs were recomputed\n",
      "Critical pairs left to check (1):\n",
      "h(f(A)) -> f(f(A))\n",
      "\n",
      "Working with critical pair: h(f(A)) -> f(f(A))\n",
      "Obtained: ρ = h(f(A)) and ρ' = f(f(A))\n",
      "Rule h(f(A)) -> f(f(A)) is appended to reduction rules\n",
      "\n",
      "Critical pairs were recomputed\n",
      "Critical pairs left to check (1):\n",
      "h(f(B)) -> f(f(g(B)))\n",
      "\n",
      "Working with critical pair: h(f(B)) -> f(f(g(B)))\n",
      "Obtained: ρ = f(f(B)) and ρ' = f(f(B))\n",
      "Equal results obtained - no new rules deduced.\n",
      "\n",
      "Reduction system (FINAL): \n",
      "f(g(X)) -> f(X)\n",
      "g(f(Y)) -> f(Y)\n",
      "h(g(Z)) -> f(Z)\n",
      "h(f(A)) -> f(f(A))\n",
      "############################################################\n"
     ]
    }
   ],
   "source": [
    "reduction_set = [(\"f(g(X))\", \"f(X)\"), \n",
    "                 (\"g(f(Y))\", \"f(Y)\"), \n",
    "                 (\"h(g(Z))\", \"f(Z)\")]\n",
    "\n",
    "eq.knuth_bendix(reduction_set);"
   ]
  }
 ],
 "metadata": {
  "kernelspec": {
   "display_name": "logic",
   "language": "python",
   "name": "python3"
  },
  "language_info": {
   "codemirror_mode": {
    "name": "ipython",
    "version": 3
   },
   "file_extension": ".py",
   "mimetype": "text/x-python",
   "name": "python",
   "nbconvert_exporter": "python",
   "pygments_lexer": "ipython3",
   "version": "3.12.9"
  }
 },
 "nbformat": 4,
 "nbformat_minor": 2
}
